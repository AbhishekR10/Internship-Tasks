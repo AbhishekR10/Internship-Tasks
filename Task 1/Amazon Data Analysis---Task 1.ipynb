{
  "nbformat": 4,
  "nbformat_minor": 0,
  "metadata": {
    "colab": {
      "private_outputs": true,
      "provenance": []
    },
    "kernelspec": {
      "name": "python3",
      "display_name": "Python 3"
    },
    "language_info": {
      "name": "python"
    }
  },
  "cells": [
    {
      "cell_type": "code",
      "execution_count": null,
      "metadata": {
        "id": "R1ID6ikdpJVf"
      },
      "outputs": [],
      "source": [
        "import pandas as pd\n",
        "import seaborn as sns\n",
        "import numpy as np\n",
        "import matplotlib.pyplot as plt\n",
        "import plotly.express as px"
      ]
    },
    {
      "cell_type": "code",
      "source": [
        "%matplotlib inline\n",
        "data = pd.read_csv('Amazon Sales data.csv')"
      ],
      "metadata": {
        "id": "aq6-dwjqptQm"
      },
      "execution_count": null,
      "outputs": []
    },
    {
      "cell_type": "code",
      "source": [
        "data"
      ],
      "metadata": {
        "id": "PzAkw4NlqRch"
      },
      "execution_count": null,
      "outputs": []
    },
    {
      "cell_type": "code",
      "source": [
        "data.info()"
      ],
      "metadata": {
        "id": "R39mWdlmqWWU"
      },
      "execution_count": null,
      "outputs": []
    },
    {
      "cell_type": "code",
      "source": [
        "data.describe()"
      ],
      "metadata": {
        "id": "_RsSmYrdqZZz"
      },
      "execution_count": null,
      "outputs": []
    },
    {
      "cell_type": "code",
      "source": [
        "data.isnull().sum()"
      ],
      "metadata": {
        "id": "H8uA7GW1qb6s"
      },
      "execution_count": null,
      "outputs": []
    },
    {
      "cell_type": "code",
      "source": [
        "data.duplicated().sum()"
      ],
      "metadata": {
        "id": "PCiiloRsqhCn"
      },
      "execution_count": null,
      "outputs": []
    },
    {
      "cell_type": "code",
      "source": [
        "data.columns"
      ],
      "metadata": {
        "id": "di52_lKJqmH9"
      },
      "execution_count": null,
      "outputs": []
    },
    {
      "cell_type": "code",
      "source": [
        "data['Ship Date'] = pd.to_datetime(data['Ship Date'])\n",
        "data['Order Date'] = pd.to_datetime(data['Order Date'])"
      ],
      "metadata": {
        "id": "iFDVDsfNquzu"
      },
      "execution_count": null,
      "outputs": []
    },
    {
      "cell_type": "code",
      "source": [
        "data"
      ],
      "metadata": {
        "id": "zDktWPyeq3XT"
      },
      "execution_count": null,
      "outputs": []
    },
    {
      "cell_type": "code",
      "source": [
        "data['Region'] = data['Region'].astype(str)\n",
        "data['Country'] = data['Country'].astype(str)\n",
        "data['Item Type'] = data['Item Type'].astype(str)\n",
        "data['Sales Channel'] = data['Sales Channel'].astype(str)\n",
        "data['Order Priority'] = data['Order Priority'].astype(str)"
      ],
      "metadata": {
        "id": "TFV29Ukcq5yP"
      },
      "execution_count": null,
      "outputs": []
    },
    {
      "cell_type": "code",
      "source": [
        "data[['Units Sold', 'Unit Price',\t'Unit Cost', 'Total Revenue', 'Total Cost',\t'Total Profit']].describe()"
      ],
      "metadata": {
        "id": "1GVjGXAdrQoe"
      },
      "execution_count": null,
      "outputs": []
    },
    {
      "cell_type": "code",
      "source": [
        "data['Order Month'] = data['Order Date'].dt.month\n",
        "data['Order Year'] = data['Order Date'].dt.year\n",
        "data['Order Date MonthYear'] = data['Order Date'].dt.strftime('%Y-%m')\n",
        "data = data.drop(columns=['Order Date'])"
      ],
      "metadata": {
        "id": "5zgNArABrtOs"
      },
      "execution_count": null,
      "outputs": []
    },
    {
      "cell_type": "code",
      "source": [
        "data"
      ],
      "metadata": {
        "id": "L9wNfWgHryuj"
      },
      "execution_count": null,
      "outputs": []
    },
    {
      "cell_type": "code",
      "source": [
        "sales_trend_month = data.groupby('Order Month')['Total Profit'].sum()"
      ],
      "metadata": {
        "id": "U3hzazfmr2Bp"
      },
      "execution_count": null,
      "outputs": []
    },
    {
      "cell_type": "code",
      "source": [
        "sales_trend_month"
      ],
      "metadata": {
        "id": "ZRzbX21osT-k"
      },
      "execution_count": null,
      "outputs": []
    },
    {
      "cell_type": "code",
      "source": [
        "sales_trend_month.plot(kind='bar', x='Order Month', y='Total Profit')"
      ],
      "metadata": {
        "id": "At4CPSj7sYiT"
      },
      "execution_count": null,
      "outputs": []
    },
    {
      "cell_type": "code",
      "source": [
        "sales_trend_year = data.groupby('Order Year')['Total Profit'].sum()"
      ],
      "metadata": {
        "id": "Vd1G_iIcsoNy"
      },
      "execution_count": null,
      "outputs": []
    },
    {
      "cell_type": "code",
      "source": [
        "sales_trend_year"
      ],
      "metadata": {
        "id": "Xhmz66jLsrM2"
      },
      "execution_count": null,
      "outputs": []
    },
    {
      "cell_type": "code",
      "source": [
        "sales_trend_year.plot(kind='bar', x='Order Year', y='Total Profit')"
      ],
      "metadata": {
        "id": "ZYRtaR0rstwx"
      },
      "execution_count": null,
      "outputs": []
    },
    {
      "cell_type": "code",
      "source": [
        "sales_trend_yearmonth = data.groupby('Order Date MonthYear')['Total Profit'].sum()"
      ],
      "metadata": {
        "id": "YYnVe9uUs1xE"
      },
      "execution_count": null,
      "outputs": []
    },
    {
      "cell_type": "code",
      "source": [
        "sales_trend_yearmonth"
      ],
      "metadata": {
        "id": "mgXGkrIds8dX"
      },
      "execution_count": null,
      "outputs": []
    },
    {
      "cell_type": "code",
      "source": [
        "plt.figure(figsize=(16, 6))\n",
        "sales_trend_yearmonth.plot(kind='bar', x='Order Date MonthYear', y='Total Profit')\n",
        "plt.title('YearMonthSales Sales Trend')\n",
        "plt.xlabel('Order MonthYear')\n",
        "plt.ylabel('Total Profit')\n",
        "plt.show()\n"
      ],
      "metadata": {
        "id": "udYoOXias_ba"
      },
      "execution_count": null,
      "outputs": []
    },
    {
      "cell_type": "code",
      "source": [
        "pd.set_option('display.max_rows', None)\n",
        "data['Country'].value_counts()"
      ],
      "metadata": {
        "id": "Mg02crMcvhWS"
      },
      "execution_count": null,
      "outputs": []
    },
    {
      "cell_type": "code",
      "source": [
        "country_names = data.Country.value_counts().index\n",
        "country_val = data.Country.value_counts().values\n",
        "fig,ax = plt.subplots(figsize=(9,9))\n",
        "ax.pie(country_val[:15],labels=country_names[:15],autopct='%1.2f%%')\n",
        "plt.show()"
      ],
      "metadata": {
        "id": "NsDyW0dvwJUR"
      },
      "execution_count": null,
      "outputs": []
    },
    {
      "cell_type": "code",
      "source": [
        "fig = px.choropleth(data_frame = data,\n",
        "                    locations = 'Country',\n",
        "                    locationmode = 'country names',\n",
        "                    color = 'Total Profit',\n",
        "                    title = 'Total Profit by Country',\n",
        "                    color_continuous_scale='Viridis'\n",
        "                    )\n",
        "fig.show()"
      ],
      "metadata": {
        "id": "KQq4m4HNwoqR"
      },
      "execution_count": null,
      "outputs": []
    },
    {
      "cell_type": "code",
      "source": [
        "plt.figure(figsize=(10, 6))\n",
        "sns.boxplot(x=data['Total Profit'])\n",
        "plt.xlabel('Total Profit')\n",
        "plt.ylabel('Value')\n",
        "plt.title('Box Plot of Total Profit')\n",
        "plt.show()"
      ],
      "metadata": {
        "id": "fPbS7ako0ZRj"
      },
      "execution_count": null,
      "outputs": []
    },
    {
      "cell_type": "code",
      "source": [
        "def detect_outliers(dataframe, column_name):\n",
        "    if column_name not in dataframe.columns:\n",
        "        raise ValueError(f\"Column '{column_name}' does not exist in the dataframe.\")\n",
        "\n",
        "\n",
        "    column = dataframe[column_name].values\n",
        "\n",
        "\n",
        "    mean = np.mean(column)\n",
        "    std = np.std(column)\n",
        "\n",
        "\n",
        "    threshold = 2\n",
        "\n",
        "\n",
        "    outliers = []\n",
        "\n",
        "\n",
        "    for i, value in enumerate(column):\n",
        "        z_score = (value - mean) / std\n",
        "        if np.abs(z_score) > threshold:\n",
        "            outliers.append(i)\n",
        "\n",
        "\n",
        "    outlier_rows = dataframe.iloc[outliers]\n",
        "\n",
        "    return outliers, outlier_rows"
      ],
      "metadata": {
        "id": "0JfhVxnz02cf"
      },
      "execution_count": null,
      "outputs": []
    },
    {
      "cell_type": "code",
      "source": [
        "outliers1 = detect_outliers(data, 'Total Profit')\n",
        "outliers1"
      ],
      "metadata": {
        "id": "XBu0TPnu1CpT"
      },
      "execution_count": null,
      "outputs": []
    },
    {
      "cell_type": "code",
      "source": [
        "plt.figure(figsize=(10, 6))\n",
        "sns.boxplot(x=data['Total Cost'])\n",
        "plt.xlabel('Total Cost')\n",
        "plt.ylabel('Value')\n",
        "plt.title('Box Plot of Total Profit')\n",
        "plt.show()"
      ],
      "metadata": {
        "id": "fvXYCA1i2Ha9"
      },
      "execution_count": null,
      "outputs": []
    },
    {
      "cell_type": "code",
      "source": [
        "outliers2 = detect_outliers(data, 'Total Cost')\n",
        "outliers2"
      ],
      "metadata": {
        "id": "QUBDa9ke2Tvc"
      },
      "execution_count": null,
      "outputs": []
    },
    {
      "cell_type": "code",
      "source": [
        "plt.figure(figsize=(10, 6))\n",
        "sns.boxplot(x=data['Total Revenue'])\n",
        "plt.title('Box Plot of Total Revenue')\n",
        "plt.xlabel('Total Revenue')\n",
        "plt.ylabel('Value')\n",
        "plt.show()"
      ],
      "metadata": {
        "id": "fx39DDmT2qVK"
      },
      "execution_count": null,
      "outputs": []
    },
    {
      "cell_type": "code",
      "source": [
        "outliers3 = detect_outliers(data, 'Total Revenue')\n",
        "outliers3"
      ],
      "metadata": {
        "id": "qwSFF0Gk28_z"
      },
      "execution_count": null,
      "outputs": []
    },
    {
      "cell_type": "code",
      "source": [
        "plt.figure(figsize=(10, 6))\n",
        "sns.boxplot(x=data['Unit Cost'])\n",
        "plt.title('Box Plot of Unit Cost')\n",
        "plt.xlabel('Unit Cost')\n",
        "plt.ylabel('Value')\n",
        "plt.show()"
      ],
      "metadata": {
        "id": "p95OWXY63GDH"
      },
      "execution_count": null,
      "outputs": []
    },
    {
      "cell_type": "code",
      "source": [
        "plt.figure(figsize=(10, 6))\n",
        "sns.boxplot(x=data['Unit Price'])\n",
        "plt.title('Box Plot of Unit Price')\n",
        "plt.xlabel('Unit Price')\n",
        "plt.ylabel('Value')\n",
        "plt.show()"
      ],
      "metadata": {
        "id": "-A4auqal3Sgj"
      },
      "execution_count": null,
      "outputs": []
    },
    {
      "cell_type": "code",
      "source": [
        "plt.figure(figsize=(10, 6))\n",
        "sns.boxplot(x=data['Units Sold'])\n",
        "plt.title('Box Plot of Units Sold')\n",
        "plt.xlabel('Units Sold')\n",
        "plt.ylabel('Value')\n",
        "plt.show()"
      ],
      "metadata": {
        "id": "I1MSYy9M3d2y"
      },
      "execution_count": null,
      "outputs": []
    },
    {
      "cell_type": "code",
      "source": [
        "revenue_by_category = data.groupby('Item Type')['Total Revenue'].sum().sort_values(ascending=False)\n",
        "revenue_by_category"
      ],
      "metadata": {
        "id": "QvS_MfFi3r48"
      },
      "execution_count": null,
      "outputs": []
    },
    {
      "cell_type": "code",
      "source": [
        "profit_by_category = data.groupby('Item Type')['Total Profit'].sum().sort_values(ascending=False)\n",
        "profit_by_category"
      ],
      "metadata": {
        "id": "VijBqGHy33iw"
      },
      "execution_count": null,
      "outputs": []
    },
    {
      "cell_type": "code",
      "source": [
        "plt.figure(figsize=(16, 6))\n",
        "profit_by_category.plot(kind='bar')\n",
        "plt.title('Profit by Item Type')\n",
        "plt.xlabel('Item Type')\n",
        "plt.ylabel('Total Profit')\n",
        "plt.xticks(rotation=45)\n",
        "plt.show()"
      ],
      "metadata": {
        "id": "cmHh64SE4ec-"
      },
      "execution_count": null,
      "outputs": []
    },
    {
      "cell_type": "code",
      "source": [
        "plt.figure(figsize=(16, 6))\n",
        "profit_by_category.plot(kind='line', marker='o')\n",
        "plt.title('Profit by Item Type')\n",
        "plt.xlabel('Item Type')\n",
        "plt.ylabel('Total Profit')\n",
        "plt.xticks(rotation=45)\n",
        "plt.show()"
      ],
      "metadata": {
        "id": "cjMi1yuQ4V6q"
      },
      "execution_count": null,
      "outputs": []
    },
    {
      "cell_type": "code",
      "source": [
        "corr_matrix = data[['Total Revenue', 'Total Cost', 'Total Profit']].corr()\n",
        "sns.heatmap(corr_matrix, annot=True, cmap='coolwarm')\n",
        "plt.title('Correlation Heatmap')\n",
        "plt.show()"
      ],
      "metadata": {
        "id": "2IqC43zs4AxG"
      },
      "execution_count": null,
      "outputs": []
    },
    {
      "cell_type": "code",
      "source": [
        "data"
      ],
      "metadata": {
        "id": "NAREIwVS4ORa"
      },
      "execution_count": null,
      "outputs": []
    },
    {
      "cell_type": "code",
      "source": [
        "from sklearn.preprocessing import LabelEncoder\n",
        "label = LabelEncoder()\n",
        "data[\"Item Type\"] = label.fit_transform(data[\"Item Type\"])\n",
        "data[\"Sales Channel\"] = label.fit_transform(data[\"Sales Channel\"])\n",
        "data[\"Order Priority\"] = label.fit_transform(data[\"Order Priority\"])"
      ],
      "metadata": {
        "id": "WCrKmXVy5POM"
      },
      "execution_count": null,
      "outputs": []
    },
    {
      "cell_type": "code",
      "source": [
        "data"
      ],
      "metadata": {
        "id": "-N3o8sOb5k2x"
      },
      "execution_count": null,
      "outputs": []
    },
    {
      "cell_type": "code",
      "source": [
        "df = pd.DataFrame(data)"
      ],
      "metadata": {
        "id": "5uZd-O5f6Po-"
      },
      "execution_count": null,
      "outputs": []
    },
    {
      "cell_type": "code",
      "source": [
        "df = df.drop(\"Region\", axis=1)\n",
        "df = df.drop(\"Country\", axis=1)\n",
        "df = df.drop(\"Order Date MonthYear\", axis=1)\n",
        "df = df.drop(\"Order ID\", axis=1)\n",
        "df = df.drop(\"Ship Date\", axis=1)"
      ],
      "metadata": {
        "id": "J1yaSC5D5o7v"
      },
      "execution_count": null,
      "outputs": []
    },
    {
      "cell_type": "code",
      "source": [
        "df"
      ],
      "metadata": {
        "id": "ogM-N6sA6fuc"
      },
      "execution_count": null,
      "outputs": []
    },
    {
      "cell_type": "code",
      "source": [
        "df.head(5)"
      ],
      "metadata": {
        "id": "zk_1rEli6jeY"
      },
      "execution_count": null,
      "outputs": []
    },
    {
      "cell_type": "code",
      "source": [
        "df.tail(10)"
      ],
      "metadata": {
        "id": "wWZoa-XT6mqX"
      },
      "execution_count": null,
      "outputs": []
    },
    {
      "cell_type": "code",
      "source": [
        "df_auto_ml = df"
      ],
      "metadata": {
        "id": "xpoB9Cg46phF"
      },
      "execution_count": null,
      "outputs": []
    },
    {
      "cell_type": "code",
      "source": [
        "!pip install --pre pycaret"
      ],
      "metadata": {
        "id": "umm0B8CM61Ag"
      },
      "execution_count": null,
      "outputs": []
    },
    {
      "cell_type": "code",
      "source": [
        "from pycaret.regression import *"
      ],
      "metadata": {
        "id": "JBR_4TG87Yw-"
      },
      "execution_count": null,
      "outputs": []
    },
    {
      "cell_type": "code",
      "source": [
        "reg = setup(data = df_auto_ml, target = 'Total Profit', session_id=123)\n",
        "best_model = compare_models()"
      ],
      "metadata": {
        "id": "O5TbSqas7hLY"
      },
      "execution_count": null,
      "outputs": []
    },
    {
      "cell_type": "code",
      "source": [
        "llar = create_model('llar')\n"
      ],
      "metadata": {
        "id": "WtR8we467z28"
      },
      "execution_count": null,
      "outputs": []
    },
    {
      "cell_type": "code",
      "source": [
        "tuned_llar_model = tune_model(llar)"
      ],
      "metadata": {
        "id": "oWR-o-978Esb"
      },
      "execution_count": null,
      "outputs": []
    },
    {
      "cell_type": "code",
      "source": [
        "plot_model(tuned_llar_model)"
      ],
      "metadata": {
        "id": "uqWWt0RX8LRf"
      },
      "execution_count": null,
      "outputs": []
    },
    {
      "cell_type": "code",
      "source": [
        "plot_model(tuned_llar_model, plot=\"error\")"
      ],
      "metadata": {
        "id": "OtpPqCss8evq"
      },
      "execution_count": null,
      "outputs": []
    },
    {
      "cell_type": "code",
      "source": [
        "predict_model(tuned_llar_model)"
      ],
      "metadata": {
        "id": "ITb5dGM98h13"
      },
      "execution_count": null,
      "outputs": []
    },
    {
      "cell_type": "code",
      "source": [
        "X = df[['Item Type', 'Sales Channel', 'Order Priority', 'Units Sold', 'Unit Price', 'Unit Cost', 'Total Revenue', 'Total Cost', 'Order Month', 'Order Year']]\n",
        "y = df['Total Profit']"
      ],
      "metadata": {
        "id": "c_5sDvZm8pXg"
      },
      "execution_count": null,
      "outputs": []
    },
    {
      "cell_type": "code",
      "source": [
        "X"
      ],
      "metadata": {
        "id": "4kSI32an8uAY"
      },
      "execution_count": null,
      "outputs": []
    },
    {
      "cell_type": "code",
      "source": [
        "y"
      ],
      "metadata": {
        "id": "u_tMS1Eh8vKC"
      },
      "execution_count": null,
      "outputs": []
    },
    {
      "cell_type": "code",
      "source": [
        "from sklearn.model_selection import train_test_split\n",
        "X_train, X_test, y_train, y_test = train_test_split(X, y, test_size=0.3, random_state=42)"
      ],
      "metadata": {
        "id": "ItkkMCCA8wp3"
      },
      "execution_count": null,
      "outputs": []
    },
    {
      "cell_type": "code",
      "source": [
        "from sklearn.preprocessing import StandardScaler\n",
        "scaler = StandardScaler()"
      ],
      "metadata": {
        "id": "6jmUNinZ8zrO"
      },
      "execution_count": null,
      "outputs": []
    },
    {
      "cell_type": "code",
      "source": [
        "X_train = scaler.fit_transform(X_train)\n",
        "X_train"
      ],
      "metadata": {
        "id": "PxDmZNO582cA"
      },
      "execution_count": null,
      "outputs": []
    },
    {
      "cell_type": "code",
      "source": [
        "from sklearn.linear_model import LinearRegression\n",
        "from sklearn.model_selection import cross_val_score\n",
        "regression = LinearRegression()\n",
        "regression.fit(X_train,y_train)"
      ],
      "metadata": {
        "id": "xlokYqLR9O8k"
      },
      "execution_count": null,
      "outputs": []
    },
    {
      "cell_type": "code",
      "source": [
        "mse = cross_val_score(regression,X_train,y_train,scoring=\"neg_mean_squared_error\",cv=5)\n",
        "mse = np.sqrt(-mse)\n",
        "mse"
      ],
      "metadata": {
        "id": "bQJRk5mX9Sxd"
      },
      "execution_count": null,
      "outputs": []
    },
    {
      "cell_type": "code",
      "source": [
        "mse.mean()"
      ],
      "metadata": {
        "id": "rBSos1cT9eAR"
      },
      "execution_count": null,
      "outputs": []
    },
    {
      "cell_type": "code",
      "source": [
        "reg_pred = regression.predict(X_test)"
      ],
      "metadata": {
        "id": "IlmOejpO9ik_"
      },
      "execution_count": null,
      "outputs": []
    },
    {
      "cell_type": "code",
      "source": [
        "reg_pred"
      ],
      "metadata": {
        "id": "9soZcdv_9kOA"
      },
      "execution_count": null,
      "outputs": []
    },
    {
      "cell_type": "code",
      "source": [
        "sns.displot(reg_pred.flatten() - y_test,kind='kde', height=5, aspect=2)\n",
        "plt.show()\n"
      ],
      "metadata": {
        "id": "78yp9ET69nIv"
      },
      "execution_count": null,
      "outputs": []
    },
    {
      "cell_type": "code",
      "source": [
        "sns.displot(reg_pred.flatten() - y_test,kind='ecdf', height=5, aspect=2)\n",
        "plt.show()"
      ],
      "metadata": {
        "id": "n-s46NDw-FaN"
      },
      "execution_count": null,
      "outputs": []
    },
    {
      "cell_type": "code",
      "source": [
        "import matplotlib.pyplot as plt\n",
        "\n",
        "plt.scatter(y_test, reg_pred)\n",
        "plt.xlabel('Actual Values')\n",
        "plt.ylabel('Predicted Values')\n",
        "plt.show()"
      ],
      "metadata": {
        "id": "VdJ2t5sr-IUv"
      },
      "execution_count": null,
      "outputs": []
    },
    {
      "cell_type": "code",
      "source": [
        "import plotly.graph_objs as go\n",
        "import pandas as pd\n",
        "from sklearn.linear_model import LinearRegression\n",
        "reg = LinearRegression()\n",
        "reg.fit(X_train, y_train)\n",
        "y_pred = reg.predict(X_test)\n",
        "r2 = reg.score(X_test, y_test)\n",
        "X_train_df = pd.DataFrame(X_train, columns=['Item Type', 'Sales Channel', 'Order Priority', 'Units Sold', 'Unit Price', 'Unit Cost', 'Total Revenue', 'Total Cost', 'Order Month', 'Order Year'])\n",
        "coef = reg.coef_\n",
        "feature_importances = pd.DataFrame({'Feature': X_train_df.columns, 'Importance': coef.flatten()}) #Flatten coef to make it a 1D array\n",
        "feature_importances = feature_importances.sort_values('Importance', ascending=False)\n",
        "fig = go.Figure()\n",
        "fig.add_trace(go.Bar(x=feature_importances['Feature'], y=feature_importances['Importance']))\n",
        "fig.update_layout(title='Feature Importance (R-squared = {:.2f})'.format(r2),\n",
        "                  xaxis_title='Feature',\n",
        "                  yaxis_title='Importance',\n",
        "                  xaxis_tickangle=-45)\n",
        "fig.show()\n"
      ],
      "metadata": {
        "id": "HzS5eXZT-uHU"
      },
      "execution_count": null,
      "outputs": []
    }
  ]
}