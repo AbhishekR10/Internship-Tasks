{
  "nbformat": 4,
  "nbformat_minor": 0,
  "metadata": {
    "colab": {
      "private_outputs": true,
      "provenance": []
    },
    "kernelspec": {
      "name": "python3",
      "display_name": "Python 3"
    },
    "language_info": {
      "name": "python"
    }
  },
  "cells": [
    {
      "cell_type": "code",
      "source": [
        "import numpy as np\n",
        "import matplotlib.pyplot as plt\n",
        "import seaborn as sns\n",
        "import pandas as pd\n",
        "%matplotlib inline"
      ],
      "metadata": {
        "id": "hr4nUMpzsJRf"
      },
      "execution_count": null,
      "outputs": []
    },
    {
      "cell_type": "code",
      "source": [
        "matches = pd.read_csv('WorldCupMatches.csv')\n",
        "matches.head()"
      ],
      "metadata": {
        "id": "rmUUKBFAudmA"
      },
      "execution_count": null,
      "outputs": []
    },
    {
      "cell_type": "code",
      "source": [
        "players = pd.read_csv('WorldCupPlayers.csv')\n",
        "players.head()"
      ],
      "metadata": {
        "id": "4uN4b9dmuvDi"
      },
      "execution_count": null,
      "outputs": []
    },
    {
      "cell_type": "code",
      "source": [
        "worldcups = pd.read_csv('WorldCups.csv')\n",
        "worldcups.head()"
      ],
      "metadata": {
        "id": "exE2jq0Du17l"
      },
      "execution_count": null,
      "outputs": []
    },
    {
      "cell_type": "code",
      "source": [
        "matches.info()"
      ],
      "metadata": {
        "id": "yc2SjDLIu72h"
      },
      "execution_count": null,
      "outputs": []
    },
    {
      "cell_type": "code",
      "source": [
        "players.info()"
      ],
      "metadata": {
        "id": "ttC3gE42vBlT"
      },
      "execution_count": null,
      "outputs": []
    },
    {
      "cell_type": "code",
      "source": [
        "worldcups.info()"
      ],
      "metadata": {
        "id": "fsBp2ebHvEYc"
      },
      "execution_count": null,
      "outputs": []
    },
    {
      "cell_type": "code",
      "source": [
        "matches.describe()"
      ],
      "metadata": {
        "id": "_FXc1RCovGgC"
      },
      "execution_count": null,
      "outputs": []
    },
    {
      "cell_type": "code",
      "source": [
        "players.describe()"
      ],
      "metadata": {
        "id": "5ft2j31JvJLy"
      },
      "execution_count": null,
      "outputs": []
    },
    {
      "cell_type": "code",
      "source": [
        "worldcups.describe()"
      ],
      "metadata": {
        "id": "TvmA5F6pvMYB"
      },
      "execution_count": null,
      "outputs": []
    },
    {
      "cell_type": "code",
      "source": [
        "matches.shape"
      ],
      "metadata": {
        "id": "S1K-ZSJdvPZ0"
      },
      "execution_count": null,
      "outputs": []
    },
    {
      "cell_type": "code",
      "source": [
        "players.shape"
      ],
      "metadata": {
        "id": "TEj8XJKVvVDr"
      },
      "execution_count": null,
      "outputs": []
    },
    {
      "cell_type": "code",
      "source": [
        "worldcups.shape"
      ],
      "metadata": {
        "id": "ROqX14YmvXLB"
      },
      "execution_count": null,
      "outputs": []
    },
    {
      "cell_type": "code",
      "source": [
        "matches.isnull().sum()"
      ],
      "metadata": {
        "id": "cSTusYkPvaDG"
      },
      "execution_count": null,
      "outputs": []
    },
    {
      "cell_type": "code",
      "source": [
        "players.isnull().sum()"
      ],
      "metadata": {
        "id": "qtHbTaq3vckL"
      },
      "execution_count": null,
      "outputs": []
    },
    {
      "cell_type": "code",
      "source": [
        "worldcups.isnull().sum()"
      ],
      "metadata": {
        "id": "MX2YymsuvfEn"
      },
      "execution_count": null,
      "outputs": []
    },
    {
      "cell_type": "code",
      "source": [
        "matches.nunique()"
      ],
      "metadata": {
        "id": "L4eaagpFvhVk"
      },
      "execution_count": null,
      "outputs": []
    },
    {
      "cell_type": "code",
      "source": [
        "players.nunique()"
      ],
      "metadata": {
        "id": "6uLJw_I0vm6l"
      },
      "execution_count": null,
      "outputs": []
    },
    {
      "cell_type": "code",
      "source": [
        "worldcups.nunique()"
      ],
      "metadata": {
        "id": "ApLMqUP_vpcr"
      },
      "execution_count": null,
      "outputs": []
    },
    {
      "cell_type": "code",
      "source": [
        "matches.dropna(inplace=True)"
      ],
      "metadata": {
        "id": "IeCpZPsOvrp3"
      },
      "execution_count": null,
      "outputs": []
    },
    {
      "cell_type": "code",
      "source": [
        "matches.shape"
      ],
      "metadata": {
        "id": "C-AwtHPNv2QV"
      },
      "execution_count": null,
      "outputs": []
    },
    {
      "cell_type": "code",
      "source": [
        "players.dropna(inplace=True)\n",
        "players.shape"
      ],
      "metadata": {
        "id": "OQ8aLMhTv5az"
      },
      "execution_count": null,
      "outputs": []
    },
    {
      "cell_type": "code",
      "source": [
        "matches['Home Team Name'].value_counts()"
      ],
      "metadata": {
        "id": "pIqcjNEswFU_"
      },
      "execution_count": null,
      "outputs": []
    },
    {
      "cell_type": "code",
      "source": [
        "names = matches[matches['Home Team Name'].str.contains('rn\">')]['Home Team Name'].value_counts()\n",
        "names"
      ],
      "metadata": {
        "id": "7QtkP73NwI_s"
      },
      "execution_count": null,
      "outputs": []
    },
    {
      "cell_type": "code",
      "source": [
        "wrong_countries = list(names.index)\n",
        "wrong_countries"
      ],
      "metadata": {
        "id": "0cRspSCBwZYx"
      },
      "execution_count": null,
      "outputs": []
    },
    {
      "cell_type": "code",
      "source": [
        "corrected_form = [name.split('>')[1] for name in wrong_countries]\n",
        "corrected_form"
      ],
      "metadata": {
        "id": "DLqmt0UKwhIR"
      },
      "execution_count": null,
      "outputs": []
    },
    {
      "cell_type": "code",
      "source": [
        "old_name = ['Germany FR', 'Maracan� - Est�dio Jornalista M�rio Filho', 'Estadio do Maracana']\n",
        "new_name = ['Germany', 'Maracan Stadium', 'Maracan Stadium']"
      ],
      "metadata": {
        "id": "EvfC3KTgxSxM"
      },
      "execution_count": null,
      "outputs": []
    },
    {
      "cell_type": "code",
      "source": [
        "wrong_countries = wrong_countries + old_name\n",
        "corrected_form = corrected_form + new_name"
      ],
      "metadata": {
        "id": "Yb3q9UGrxWAM"
      },
      "execution_count": null,
      "outputs": []
    },
    {
      "cell_type": "code",
      "source": [
        "wrong_countries, corrected_form"
      ],
      "metadata": {
        "id": "aWis1BtRxiFX"
      },
      "execution_count": null,
      "outputs": []
    },
    {
      "cell_type": "code",
      "source": [
        "for index, wr in enumerate(wrong_countries):\n",
        "    worldcups = worldcups.replace(wrong_countries[index], corrected_form[index])\n",
        "\n",
        "for index, wr in enumerate(wrong_countries):\n",
        "    matches = matches.replace(wrong_countries[index], corrected_form[index])\n",
        "\n",
        "for index, wr in enumerate(wrong_countries):\n",
        "    players = players.replace(wrong_countries[index], corrected_form[index])"
      ],
      "metadata": {
        "id": "LfEtvUTXxlly"
      },
      "execution_count": null,
      "outputs": []
    },
    {
      "cell_type": "code",
      "source": [
        "names = matches[matches['Home Team Name'].str.contains('rn\">')]['Home Team Name'].value_counts()\n",
        "names"
      ],
      "metadata": {
        "id": "BZwkHpbmyKBT"
      },
      "execution_count": null,
      "outputs": []
    },
    {
      "cell_type": "code",
      "source": [
        "winner = worldcups['Winner'].value_counts()\n",
        "winner"
      ],
      "metadata": {
        "id": "Ui2DnaLLyUT9"
      },
      "execution_count": null,
      "outputs": []
    },
    {
      "cell_type": "code",
      "source": [
        "winner.plot(kind='bar')"
      ],
      "metadata": {
        "id": "ag6h0HfTyoOe"
      },
      "execution_count": null,
      "outputs": []
    },
    {
      "cell_type": "code",
      "source": [
        "runnersup = worldcups['Runners-Up'].value_counts()\n",
        "runnersup"
      ],
      "metadata": {
        "id": "sb-_g1rLybzB"
      },
      "execution_count": null,
      "outputs": []
    },
    {
      "cell_type": "code",
      "source": [
        "runnersup.plot(kind='bar')"
      ],
      "metadata": {
        "id": "W_SXJ6oSyqxo"
      },
      "execution_count": null,
      "outputs": []
    },
    {
      "cell_type": "code",
      "source": [
        "thrid_place = worldcups['Third'].value_counts()\n",
        "thrid_place"
      ],
      "metadata": {
        "id": "fXEVS2qvyfmh"
      },
      "execution_count": null,
      "outputs": []
    },
    {
      "cell_type": "code",
      "source": [
        "thrid_place.plot(kind='bar')"
      ],
      "metadata": {
        "id": "3NvQCxoEyvAZ"
      },
      "execution_count": null,
      "outputs": []
    },
    {
      "cell_type": "code",
      "source": [
        "winner_df = winner.reset_index()\n",
        "winner_df.columns = ['Team', 'First']\n",
        "winner_df"
      ],
      "metadata": {
        "id": "POv-_XFgyzNL"
      },
      "execution_count": null,
      "outputs": []
    },
    {
      "cell_type": "code",
      "source": [
        "runners_df = runnersup.reset_index()\n",
        "runners_df.columns = ['Team', 'Second']\n",
        "runners_df"
      ],
      "metadata": {
        "id": "g8jtrVo-y6J4"
      },
      "execution_count": null,
      "outputs": []
    },
    {
      "cell_type": "code",
      "source": [
        "thrid_df = thrid_place.reset_index()\n",
        "thrid_df.columns = ['Team', 'Third']\n",
        "thrid_df"
      ],
      "metadata": {
        "id": "h2rCLDdpzL9-"
      },
      "execution_count": null,
      "outputs": []
    },
    {
      "cell_type": "code",
      "source": [
        "merged_df = pd.merge(winner_df, runners_df, on='Team', how='outer')\n",
        "merged_df = pd.merge(merged_df, thrid_df, on='Team', how='outer')"
      ],
      "metadata": {
        "id": "wAU9d48mziDf"
      },
      "execution_count": null,
      "outputs": []
    },
    {
      "cell_type": "code",
      "source": [
        "merged_df = merged_df.fillna(0)"
      ],
      "metadata": {
        "id": "mdM01_kNzqb8"
      },
      "execution_count": null,
      "outputs": []
    },
    {
      "cell_type": "code",
      "source": [
        "merged_df"
      ],
      "metadata": {
        "id": "_k6ecKSezt5j"
      },
      "execution_count": null,
      "outputs": []
    },
    {
      "cell_type": "code",
      "source": [
        "ax = merged_df.plot(kind='bar', figsize=(12, 8))\n",
        "ax.set_xlabel('Team')\n",
        "ax.set_ylabel('Count')\n",
        "ax.set_title('FIFA World Cup Winning Count')\n",
        "plt.show()"
      ],
      "metadata": {
        "id": "uQrdYi6xz5TR"
      },
      "execution_count": null,
      "outputs": []
    },
    {
      "cell_type": "code",
      "source": [
        "home = matches[['Home Team Name', 'Home Team Goals']]\n",
        "away = matches[['Away Team Name', 'Away Team Goals']]"
      ],
      "metadata": {
        "id": "XUisMENxz9dD"
      },
      "execution_count": null,
      "outputs": []
    },
    {
      "cell_type": "code",
      "source": [
        "home.columns = ['Team', 'Goals']\n",
        "away.columns = ['Team', 'Goals']"
      ],
      "metadata": {
        "id": "PUDAD1oe0A8k"
      },
      "execution_count": null,
      "outputs": []
    },
    {
      "cell_type": "code",
      "source": [
        "home"
      ],
      "metadata": {
        "id": "BH0H5fBl0Eb4"
      },
      "execution_count": null,
      "outputs": []
    },
    {
      "cell_type": "code",
      "source": [
        "away"
      ],
      "metadata": {
        "id": "3rOpCJP10Gpd"
      },
      "execution_count": null,
      "outputs": []
    },
    {
      "cell_type": "code",
      "source": [
        "home.columns = ['Countries', 'Goals']\n",
        "away.columns = home.columns"
      ],
      "metadata": {
        "id": "8xPulJIk0IRt"
      },
      "execution_count": null,
      "outputs": []
    },
    {
      "cell_type": "code",
      "source": [
        "goals = pd.concat([home, away], ignore_index=True)"
      ],
      "metadata": {
        "id": "P4PQvQt90M30"
      },
      "execution_count": null,
      "outputs": []
    },
    {
      "cell_type": "code",
      "source": [
        "goals.head()"
      ],
      "metadata": {
        "id": "pr_wVVVC0PRj"
      },
      "execution_count": null,
      "outputs": []
    },
    {
      "cell_type": "code",
      "source": [
        "goals = goals.groupby('Countries')['Goals'].sum().reset_index()"
      ],
      "metadata": {
        "id": "V_p7zX-k0STJ"
      },
      "execution_count": null,
      "outputs": []
    },
    {
      "cell_type": "code",
      "source": [
        "goals"
      ],
      "metadata": {
        "id": "hhyU3iBm0Vqg"
      },
      "execution_count": null,
      "outputs": []
    },
    {
      "cell_type": "code",
      "source": [
        "goals = goals.sort_values(by = 'Goals', ascending=False)\n",
        "goals"
      ],
      "metadata": {
        "id": "TW6Rl8Rh0XJN"
      },
      "execution_count": null,
      "outputs": []
    },
    {
      "cell_type": "code",
      "source": [
        "goals_sorted = goals.sort_values(by='Goals', ascending=False)"
      ],
      "metadata": {
        "id": "dJu13gtD0g4V"
      },
      "execution_count": null,
      "outputs": []
    },
    {
      "cell_type": "code",
      "source": [
        "top_n = 10\n",
        "top_countries = goals_sorted.head(top_n)\n",
        "top_countries"
      ],
      "metadata": {
        "id": "-ZDsFVW80aj2"
      },
      "execution_count": null,
      "outputs": []
    },
    {
      "cell_type": "code",
      "source": [
        "plt.figure(figsize=(12, 8))\n",
        "plt.bar(top_countries['Countries'], top_countries['Goals'], color='black')\n",
        "plt.xlabel('Countries')\n",
        "plt.ylabel('Goals')\n",
        "plt.title(f'Top {top_n} Countries by Goals')\n",
        "plt.xticks(rotation=45)\n",
        "plt.tight_layout()\n",
        "plt.show()"
      ],
      "metadata": {
        "id": "zvEUvDyV0odS"
      },
      "execution_count": null,
      "outputs": []
    },
    {
      "cell_type": "code",
      "source": [
        "def get_labels(matches):\n",
        "    if matches['Home Team Goals'] > matches['Away Team Goals']:\n",
        "        return 'Home Team Win'\n",
        "    if matches['Home Team Goals'] < matches['Away Team Goals']:\n",
        "        return 'Away Team Win'\n",
        "    return 'DRAW'"
      ],
      "metadata": {
        "id": "X1KCOp8n0vvT"
      },
      "execution_count": null,
      "outputs": []
    },
    {
      "cell_type": "code",
      "source": [
        "matches['outcome'] = matches.apply(lambda x: get_labels(x), axis=1)"
      ],
      "metadata": {
        "id": "aOuTU-M91Kpm"
      },
      "execution_count": null,
      "outputs": []
    },
    {
      "cell_type": "code",
      "source": [
        "matches"
      ],
      "metadata": {
        "id": "yUN0Yq-11NpH"
      },
      "execution_count": null,
      "outputs": []
    },
    {
      "cell_type": "code",
      "source": [
        "match_s = matches['outcome'].value_counts()\n",
        "match_s"
      ],
      "metadata": {
        "id": "nF6RA6_l1SHF"
      },
      "execution_count": null,
      "outputs": []
    },
    {
      "cell_type": "code",
      "source": [
        "match_s.plot(kind='pie')"
      ],
      "metadata": {
        "id": "2kf0PPKg1YEL"
      },
      "execution_count": null,
      "outputs": []
    },
    {
      "cell_type": "code",
      "source": [
        "matches['Datetime'] = pd.to_datetime(matches['Datetime'], errors='coerce')"
      ],
      "metadata": {
        "id": "_UmV0sBS1eeR"
      },
      "execution_count": null,
      "outputs": []
    },
    {
      "cell_type": "code",
      "source": [
        "matches['Datetime'] = matches['Datetime'].apply(lambda x: x.strftime('%d %b, %y') if pd.notnull(x) else '')"
      ],
      "metadata": {
        "id": "s0xRssWO1n8u"
      },
      "execution_count": null,
      "outputs": []
    },
    {
      "cell_type": "code",
      "source": [
        "top10 = matches.sort_values(by = 'Attendance', ascending = False)[:10]\n",
        "top10['vs'] = top10['Home Team Name'] + \" vs \" + top10['Away Team Name']\n",
        "\n",
        "plt.figure(figsize = (12,10))\n",
        "\n",
        "ax = sns.barplot(y = top10['vs'], x = top10['Attendance'])\n",
        "sns.despine(right = True)\n",
        "\n",
        "plt.ylabel('Match Teams')\n",
        "plt.xlabel('Attendence')\n",
        "plt.title('Matches with the highest number of Attendence')\n",
        "\n",
        "for i, s in enumerate(\"Stadium: \" + top10['Stadium']):\n",
        "    ax.text(2000, i, s, fontsize = 12, color = 'white')\n",
        "plt.show()"
      ],
      "metadata": {
        "id": "37l_noYa1rF5"
      },
      "execution_count": null,
      "outputs": []
    },
    {
      "cell_type": "code",
      "source": [
        "matches['Year'] = matches['Year'].astype(int)\n",
        "\n",
        "std = matches.groupby(['Stadium', 'City'])['Attendance'].mean().reset_index().sort_values(by = 'Attendance', ascending =False)\n",
        "\n",
        "top10 = std[:10]\n",
        "\n",
        "plt.figure(figsize = (12,9))\n",
        "ax = sns.barplot(y = top10['Stadium'], x = top10['Attendance'])\n",
        "sns.despine(right = True)\n",
        "\n",
        "plt.ylabel('Stadium Names')\n",
        "plt.xlabel('Attendance')\n",
        "plt.title('Stadium with the heighest number of attendance')\n",
        "for i, s in enumerate(\"City: \" + top10['City']):\n",
        "        ax.text(2000, i, s, fontsize = 12, color = 'b')\n",
        "\n",
        "plt.show()"
      ],
      "metadata": {
        "id": "o27oKw0N1vyn"
      },
      "execution_count": null,
      "outputs": []
    },
    {
      "cell_type": "code",
      "source": [
        "matches['City'].value_counts().head(20).plot(kind='bar')"
      ],
      "metadata": {
        "id": "W1bB2Hcz13Rs"
      },
      "execution_count": null,
      "outputs": []
    },
    {
      "cell_type": "code",
      "source": [
        "worldcups['Attendance'] = worldcups['Attendance'].str.replace(\".\", \"\")"
      ],
      "metadata": {
        "id": "tcaCtQru2DHw"
      },
      "execution_count": null,
      "outputs": []
    },
    {
      "cell_type": "code",
      "source": [
        "worldcups.head()"
      ],
      "metadata": {
        "id": "fp5ql6gt2DTp"
      },
      "execution_count": null,
      "outputs": []
    },
    {
      "cell_type": "code",
      "source": [
        "fig, ax = plt.subplots(figsize = (10,5))\n",
        "sns.despine(right = True)\n",
        "g = sns.barplot(x = 'Year', y = 'QualifiedTeams', data = worldcups)\n",
        "g.set_xticklabels(g.get_xticklabels(), rotation = 80)\n",
        "g.set_title('Qualified Teams Per Year')"
      ],
      "metadata": {
        "id": "9IfsYPgn2OXO"
      },
      "execution_count": null,
      "outputs": []
    },
    {
      "cell_type": "code",
      "source": [
        "(matches.groupby('Year')['Home Team Goals'].sum() + matches.groupby('Year')['Away Team Goals'].sum()).plot(kind='line')"
      ],
      "metadata": {
        "id": "ioZ2h3Ov2XCu"
      },
      "execution_count": null,
      "outputs": []
    }
  ]
}